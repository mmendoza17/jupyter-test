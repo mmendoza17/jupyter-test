{
 "cells": [
  {
   "cell_type": "markdown",
   "id": "0d12f73c",
   "metadata": {},
   "source": [
    "# Welcome!"
   ]
  },
  {
   "attachments": {},
   "cell_type": "markdown",
   "id": "a2610543",
   "metadata": {},
   "source": [
    "# My primer jupyter"
   ]
  },
  {
   "attachments": {},
   "cell_type": "markdown",
   "id": "e2fa347d",
   "metadata": {},
   "source": [
    "nosotros escribimos texto, *negritas*"
   ]
  },
  {
   "attachments": {},
   "cell_type": "markdown",
   "id": "bde6a534",
   "metadata": {},
   "source": [
    "Nosotros podemos poner una ecuación:\n",
    "\n",
    "$a^2 + b ^2 = c^2$"
   ]
  },
  {
   "cell_type": "code",
   "execution_count": 1,
   "id": "53762e0b",
   "metadata": {},
   "outputs": [
    {
     "name": "stdout",
     "output_type": "stream",
     "text": [
      "hola\n"
     ]
    }
   ],
   "source": [
    "print(\"hola\")"
   ]
  },
  {
   "cell_type": "markdown",
   "id": "f8de2b88",
   "metadata": {},
   "source": []
  },
  {
   "cell_type": "code",
   "execution_count": 5,
   "id": "f0d5a4f3",
   "metadata": {},
   "outputs": [],
   "source": [
    "import pandas as pd"
   ]
  },
  {
   "cell_type": "code",
   "execution_count": 3,
   "id": "98657f0d",
   "metadata": {},
   "outputs": [
    {
     "name": "stdout",
     "output_type": "stream",
     "text": [
      "Requirement already satisfied: pandas in /usr/local/lib/python3.10/site-packages (1.5.0)\n",
      "Requirement already satisfied: numpy>=1.21.0 in /usr/local/lib/python3.10/site-packages (from pandas) (1.23.2)\n",
      "Requirement already satisfied: python-dateutil>=2.8.1 in /usr/local/lib/python3.10/site-packages (from pandas) (2.8.2)\n",
      "Requirement already satisfied: pytz>=2020.1 in /usr/local/lib/python3.10/site-packages (from pandas) (2022.2.1)\n",
      "Requirement already satisfied: six>=1.5 in /usr/local/lib/python3.10/site-packages (from python-dateutil>=2.8.1->pandas) (1.16.0)\n"
     ]
    }
   ],
   "source": [
    "! pip install pandas"
   ]
  },
  {
   "attachments": {},
   "cell_type": "markdown",
   "id": "b840199f",
   "metadata": {},
   "source": [
    "Vamos a trabajar con los datos de estatura y luego obtener el promedio para finalmente obtener una gráfica de una distribución de estaturaas. "
   ]
  },
  {
   "attachments": {},
   "cell_type": "markdown",
   "id": "e8a88011",
   "metadata": {},
   "source": []
  },
  {
   "cell_type": "code",
   "execution_count": 6,
   "id": "d184b5f1",
   "metadata": {},
   "outputs": [
    {
     "data": {
      "text/plain": [
       "[170, 178, 176, 173, 165, 158, 178, 180, 173, 190, 163, 185]"
      ]
     },
     "execution_count": 6,
     "metadata": {},
     "output_type": "execute_result"
    }
   ],
   "source": [
    "altura = [170, 178, 176, 173, 165, 158, 178, 180, 173, 190, 163, 185]\n",
    "altura"
   ]
  },
  {
   "cell_type": "code",
   "execution_count": null,
   "id": "2ef2c782",
   "metadata": {},
   "outputs": [],
   "source": []
  }
 ],
 "metadata": {
  "kernelspec": {
   "display_name": "Python 3",
   "language": "python",
   "name": "python3"
  },
  "language_info": {
   "codemirror_mode": {
    "name": "ipython",
    "version": 3
   },
   "file_extension": ".py",
   "mimetype": "text/x-python",
   "name": "python",
   "nbconvert_exporter": "python",
   "pygments_lexer": "ipython3",
   "version": "3.10.9"
  },
  "vscode": {
   "interpreter": {
    "hash": "aee8b7b246df8f9039afb4144a1f6fd8d2ca17a180786b69acc140d282b71a49"
   }
  }
 },
 "nbformat": 4,
 "nbformat_minor": 5
}
