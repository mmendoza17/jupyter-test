{
 "cells": [
  {
   "cell_type": "markdown",
   "id": "0d12f73c",
   "metadata": {},
   "source": [
    "# Welcome!"
   ]
  },
  {
   "attachments": {},
   "cell_type": "markdown",
   "id": "a2610543",
   "metadata": {},
   "source": [
    "# My primer jupyter"
   ]
  },
  {
   "attachments": {},
   "cell_type": "markdown",
   "id": "e2fa347d",
   "metadata": {},
   "source": [
    "nosotros escribimos texto, *negritas*"
   ]
  },
  {
   "attachments": {},
   "cell_type": "markdown",
   "id": "bde6a534",
   "metadata": {},
   "source": [
    "Nosotros podemos poner una ecuación:\n",
    "\n",
    "$a^2 + b ^2 = c^2$"
   ]
  },
  {
   "cell_type": "code",
   "execution_count": 1,
   "id": "53762e0b",
   "metadata": {},
   "outputs": [
    {
     "name": "stdout",
     "output_type": "stream",
     "text": [
      "hola\n"
     ]
    }
   ],
   "source": [
    "print(\"hola\")"
   ]
  },
  {
   "cell_type": "markdown",
   "id": "f8de2b88",
   "metadata": {},
   "source": []
  },
  {
   "cell_type": "code",
   "execution_count": 5,
   "id": "f0d5a4f3",
   "metadata": {},
   "outputs": [],
   "source": [
    "import pandas as pd"
   ]
  },
  {
   "cell_type": "code",
   "execution_count": 3,
   "id": "98657f0d",
   "metadata": {},
   "outputs": [
    {
     "name": "stdout",
     "output_type": "stream",
     "text": [
      "Requirement already satisfied: pandas in /usr/local/lib/python3.10/site-packages (1.5.0)\n",
      "Requirement already satisfied: numpy>=1.21.0 in /usr/local/lib/python3.10/site-packages (from pandas) (1.23.2)\n",
      "Requirement already satisfied: python-dateutil>=2.8.1 in /usr/local/lib/python3.10/site-packages (from pandas) (2.8.2)\n",
      "Requirement already satisfied: pytz>=2020.1 in /usr/local/lib/python3.10/site-packages (from pandas) (2022.2.1)\n",
      "Requirement already satisfied: six>=1.5 in /usr/local/lib/python3.10/site-packages (from python-dateutil>=2.8.1->pandas) (1.16.0)\n"
     ]
    }
   ],
   "source": [
    "! pip install pandas"
   ]
  },
  {
   "attachments": {},
   "cell_type": "markdown",
   "id": "b840199f",
   "metadata": {},
   "source": [
    "Vamos a trabajar con los datos de estatura y luego obtener el promedio para finalmente obtener una gráfica de una distribución de estaturaas. "
   ]
  },
  {
   "cell_type": "code",
   "execution_count": 6,
   "id": "d184b5f1",
   "metadata": {},
   "outputs": [
    {
     "data": {
      "text/plain": [
       "[170, 178, 176, 173, 165, 158, 178, 180, 173, 190, 163, 185]"
      ]
     },
     "execution_count": 6,
     "metadata": {},
     "output_type": "execute_result"
    }
   ],
   "source": [
    "altura = [170, 178, 176, 173, 165, 158, 178, 180, 173, 190, 163, 185]\n",
    "altura"
   ]
  },
  {
   "cell_type": "code",
   "execution_count": 7,
   "id": "2ef2c782",
   "metadata": {},
   "outputs": [],
   "source": [
    "import matplotlib.pyplot as plt"
   ]
  },
  {
   "cell_type": "code",
   "execution_count": 8,
   "id": "65bc7595",
   "metadata": {},
   "outputs": [
    {
     "name": "stdout",
     "output_type": "stream",
     "text": [
      "Requirement already satisfied: matplotlib in /usr/local/lib/python3.10/site-packages (3.6.0)\n",
      "Requirement already satisfied: pyparsing>=2.2.1 in /usr/local/lib/python3.10/site-packages (from matplotlib) (3.0.9)\n",
      "Requirement already satisfied: kiwisolver>=1.0.1 in /usr/local/lib/python3.10/site-packages (from matplotlib) (1.4.4)\n",
      "Requirement already satisfied: fonttools>=4.22.0 in /usr/local/lib/python3.10/site-packages (from matplotlib) (4.37.3)\n",
      "Requirement already satisfied: packaging>=20.0 in /usr/local/lib/python3.10/site-packages (from matplotlib) (21.3)\n",
      "Requirement already satisfied: pillow>=6.2.0 in /usr/local/lib/python3.10/site-packages (from matplotlib) (9.2.0)\n",
      "Requirement already satisfied: cycler>=0.10 in /usr/local/lib/python3.10/site-packages (from matplotlib) (0.11.0)\n",
      "Requirement already satisfied: contourpy>=1.0.1 in /usr/local/lib/python3.10/site-packages (from matplotlib) (1.0.5)\n",
      "Requirement already satisfied: python-dateutil>=2.7 in /usr/local/lib/python3.10/site-packages (from matplotlib) (2.8.2)\n",
      "Requirement already satisfied: numpy>=1.19 in /usr/local/lib/python3.10/site-packages (from matplotlib) (1.23.2)\n",
      "Requirement already satisfied: six>=1.5 in /usr/local/lib/python3.10/site-packages (from python-dateutil>=2.7->matplotlib) (1.16.0)\n"
     ]
    }
   ],
   "source": [
    "! pip install matplotlib"
   ]
  },
  {
   "cell_type": "code",
   "execution_count": 9,
   "id": "98f306db",
   "metadata": {},
   "outputs": [
    {
     "data": {
      "text/plain": [
       "(array([1., 1., 1., 1., 2., 1., 3., 0., 1., 1.]),\n",
       " array([158. , 161.2, 164.4, 167.6, 170.8, 174. , 177.2, 180.4, 183.6,\n",
       "        186.8, 190. ]),\n",
       " <BarContainer object of 10 artists>)"
      ]
     },
     "execution_count": 9,
     "metadata": {},
     "output_type": "execute_result"
    },
    {
     "data": {
      "image/png": "[encoded data removed]",
      "text/plain": [
       "<Figure size 640x480 with 1 Axes>"
      ]
     },
     "metadata": {},
     "output_type": "display_data"
    }
   ],
   "source": [
    "plt.hist(altura)"
   ]
  },
  {
   "attachments": {},
   "cell_type": "markdown",
   "id": "4a8f3e0d",
   "metadata": {},
   "source": [
    "Ahora vamos a obtener el promedio de las alturas que recabamos arriba. Para ello necesitamos recordar la fórmula del promedio.\n",
    "\n",
    "$P = (a_1 + a_2 + ... + a_{12})/12$\n"
   ]
  },
  {
   "cell_type": "code",
   "execution_count": 12,
   "id": "191eb01c",
   "metadata": {},
   "outputs": [
    {
     "data": {
      "text/plain": [
       "2089"
      ]
     },
     "execution_count": 12,
     "metadata": {},
     "output_type": "execute_result"
    }
   ],
   "source": [
    "sum(altura)"
   ]
  },
  {
   "cell_type": "code",
   "execution_count": 13,
   "id": "69916427",
   "metadata": {},
   "outputs": [
    {
     "data": {
      "text/plain": [
       "174.08333333333334"
      ]
     },
     "execution_count": 13,
     "metadata": {},
     "output_type": "execute_result"
    }
   ],
   "source": [
    "sum(altura)/len(altura)"
   ]
  },
  {
   "cell_type": "code",
   "execution_count": 14,
   "id": "21540dfd",
   "metadata": {},
   "outputs": [],
   "source": [
    "P = sum(altura)/len(altura)"
   ]
  },
  {
   "cell_type": "markdown",
   "id": "6e37ebe8",
   "metadata": {},
   "source": []
  },
  {
   "cell_type": "code",
   "execution_count": 15,
   "id": "56c1c22f",
   "metadata": {},
   "outputs": [
    {
     "data": {
      "text/plain": [
       "174.08333333333334"
      ]
     },
     "execution_count": 15,
     "metadata": {},
     "output_type": "execute_result"
    }
   ],
   "source": [
    "P"
   ]
  },
  {
   "attachments": {},
   "cell_type": "markdown",
   "id": "a23f98c4",
   "metadata": {},
   "source": [
    "Podemos crear listas y la primera lista es la tarea:\n",
    "\n",
    "1.- Creen su cuenta de github.\n",
    "2.- Crear un vínculo de github con su computadora. (Pidan una asesoría)\n",
    "3.- Crear su primer repositorio y copiar este notebook. "
   ]
  },
  {
   "cell_type": "markdown",
   "id": "c67e4644",
   "metadata": {},
   "source": []
  },
  {
   "cell_type": "markdown",
   "id": "b38aa94d",
   "metadata": {},
   "source": []
  }
 ],
 "metadata": {
  "kernelspec": {
   "display_name": "Python 3",
   "language": "python",
   "name": "python3"
  },
  "language_info": {
   "codemirror_mode": {
    "name": "ipython",
    "version": 3
   },
   "file_extension": ".py",
   "mimetype": "text/x-python",
   "name": "python",
   "nbconvert_exporter": "python",
   "pygments_lexer": "ipython3",
   "version": "3.10.9"
  },
  "vscode": {
   "interpreter": {
    "hash": "aee8b7b246df8f9039afb4144a1f6fd8d2ca17a180786b69acc140d282b71a49"
   }
  }
 },
 "nbformat": 4,
 "nbformat_minor": 5
}
